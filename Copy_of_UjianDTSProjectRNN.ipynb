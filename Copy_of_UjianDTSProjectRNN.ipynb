{
  "nbformat": 4,
  "nbformat_minor": 0,
  "metadata": {
    "colab": {
      "name": "Copy of UjianDTSProjectRNN.ipynb",
      "provenance": [],
      "collapsed_sections": [],
      "include_colab_link": true
    },
    "kernelspec": {
      "name": "python3",
      "display_name": "Python 3"
    },
    "accelerator": "GPU"
  },
  "cells": [
    {
      "cell_type": "markdown",
      "metadata": {
        "id": "view-in-github",
        "colab_type": "text"
      },
      "source": [
        "<a href=\"https://colab.research.google.com/github/fadelnast/Testing/blob/master/Copy_of_UjianDTSProjectRNN.ipynb\" target=\"_parent\"><img src=\"https://colab.research.google.com/assets/colab-badge.svg\" alt=\"Open In Colab\"/></a>"
      ]
    },
    {
      "cell_type": "markdown",
      "metadata": {
        "id": "Jkubi3BJfWU7",
        "colab_type": "text"
      },
      "source": [
        "#0. Import Library"
      ]
    },
    {
      "cell_type": "code",
      "metadata": {
        "id": "R_yTotx6fNin",
        "colab_type": "code",
        "outputId": "bdfaa1d1-30b7-4113-8c8b-9e45b0261452",
        "colab": {
          "base_uri": "https://localhost:8080/",
          "height": 367
        }
      },
      "source": [
        "# tenserflow sebagai deep learning proses\n",
        "import tensorflow as tf \n",
        "from tensorflow.contrib import rnn\n",
        "import numpy as np # untuk mendefinisikan array\n",
        "import pandas as pd # untuk mendefinisikan dataframe agar lebih complex\n",
        "import time # waktu\n",
        "# metplotlib sebagai ploting data\n",
        "import matplotlib as mpl\n",
        "import matplotlib.pyplot as plt\n",
        "import matplotlib.pylab as pylab\n",
        "%matplotlib inline\n",
        "mpl.style.use( 'ggplot' ) # style Plot dari matplotlib tsb"
      ],
      "execution_count": 0,
      "outputs": [
        {
          "output_type": "error",
          "ename": "ModuleNotFoundError",
          "evalue": "ignored",
          "traceback": [
            "\u001b[0;31m---------------------------------------------------------------------------\u001b[0m",
            "\u001b[0;31mModuleNotFoundError\u001b[0m                       Traceback (most recent call last)",
            "\u001b[0;32m<ipython-input-6-ff88d1afa22e>\u001b[0m in \u001b[0;36m<module>\u001b[0;34m()\u001b[0m\n\u001b[1;32m      1\u001b[0m \u001b[0;32mimport\u001b[0m \u001b[0mtensorflow\u001b[0m \u001b[0;32mas\u001b[0m \u001b[0mtf\u001b[0m\u001b[0;34m\u001b[0m\u001b[0;34m\u001b[0m\u001b[0m\n\u001b[0;32m----> 2\u001b[0;31m \u001b[0;32mfrom\u001b[0m \u001b[0mtensorflow\u001b[0m\u001b[0;34m.\u001b[0m\u001b[0mcontrib\u001b[0m \u001b[0;32mimport\u001b[0m \u001b[0mrnn\u001b[0m\u001b[0;34m\u001b[0m\u001b[0;34m\u001b[0m\u001b[0m\n\u001b[0m\u001b[1;32m      3\u001b[0m \u001b[0;32mimport\u001b[0m \u001b[0mnumpy\u001b[0m \u001b[0;32mas\u001b[0m \u001b[0mnp\u001b[0m \u001b[0;31m# untuk mendefinisikan array\u001b[0m\u001b[0;34m\u001b[0m\u001b[0;34m\u001b[0m\u001b[0m\n\u001b[1;32m      4\u001b[0m \u001b[0;32mimport\u001b[0m \u001b[0mpandas\u001b[0m \u001b[0;32mas\u001b[0m \u001b[0mpd\u001b[0m \u001b[0;31m# untuk mendefinisikan dataframe agar lebih complex\u001b[0m\u001b[0;34m\u001b[0m\u001b[0;34m\u001b[0m\u001b[0m\n\u001b[1;32m      5\u001b[0m \u001b[0;32mimport\u001b[0m \u001b[0mtime\u001b[0m \u001b[0;31m# waktu\u001b[0m\u001b[0;34m\u001b[0m\u001b[0;34m\u001b[0m\u001b[0m\n",
            "\u001b[0;31mModuleNotFoundError\u001b[0m: No module named 'tensorflow.contrib'",
            "",
            "\u001b[0;31m---------------------------------------------------------------------------\u001b[0;32m\nNOTE: If your import is failing due to a missing package, you can\nmanually install dependencies using either !pip or !apt.\n\nTo view examples of installing some common dependencies, click the\n\"Open Examples\" button below.\n\u001b[0;31m---------------------------------------------------------------------------\u001b[0m\n"
          ]
        }
      ]
    },
    {
      "cell_type": "markdown",
      "metadata": {
        "id": "KwfOLXGJfa-C",
        "colab_type": "text"
      },
      "source": [
        "#1. Mengenal Data"
      ]
    },
    {
      "cell_type": "code",
      "metadata": {
        "colab_type": "code",
        "id": "0SxwyEzL_81X",
        "colab": {}
      },
      "source": [
        ""
      ],
      "execution_count": 0,
      "outputs": []
    },
    {
      "cell_type": "code",
      "metadata": {
        "id": "RGgnWNGJsiLt",
        "colab_type": "code",
        "outputId": "f0fefc90-1a68-4bcf-c7f8-a51d8a69646d",
        "colab": {
          "base_uri": "https://localhost:8080/",
          "height": 333
        }
      },
      "source": [
        "# Import MNIST data\n",
        "from tensorflow.examples.tutorials.mnist import input_data\n",
        "# mnist = input_data.read_data_sets(\"/tmp/data/\", one_hot=True)\n",
        "mnist = input_data.read_data_sets('data/fashion', one_hot=True) # membaca dataset dari input_data yang berada apada tensorflow.examples.tutorial.mnist\n"
      ],
      "execution_count": 0,
      "outputs": [
        {
          "output_type": "error",
          "ename": "ModuleNotFoundError",
          "evalue": "ignored",
          "traceback": [
            "\u001b[0;31m---------------------------------------------------------------------------\u001b[0m",
            "\u001b[0;31mModuleNotFoundError\u001b[0m                       Traceback (most recent call last)",
            "\u001b[0;32m<ipython-input-3-e00fcaa33bd8>\u001b[0m in \u001b[0;36m<module>\u001b[0;34m()\u001b[0m\n\u001b[0;32m----> 1\u001b[0;31m \u001b[0;32mfrom\u001b[0m \u001b[0mtensorflow\u001b[0m\u001b[0;34m.\u001b[0m\u001b[0mexamples\u001b[0m\u001b[0;34m.\u001b[0m\u001b[0mtutorials\u001b[0m\u001b[0;34m.\u001b[0m\u001b[0mmnist\u001b[0m \u001b[0;32mimport\u001b[0m \u001b[0minput_data\u001b[0m\u001b[0;34m\u001b[0m\u001b[0;34m\u001b[0m\u001b[0m\n\u001b[0m\u001b[1;32m      2\u001b[0m \u001b[0;31m# mnist = input_data.read_data_sets(\"/tmp/data/\", one_hot=True)\u001b[0m\u001b[0;34m\u001b[0m\u001b[0;34m\u001b[0m\u001b[0;34m\u001b[0m\u001b[0m\n\u001b[1;32m      3\u001b[0m \u001b[0mmnist\u001b[0m \u001b[0;34m=\u001b[0m \u001b[0minput_data\u001b[0m\u001b[0;34m.\u001b[0m\u001b[0mread_data_sets\u001b[0m\u001b[0;34m(\u001b[0m\u001b[0;34m'data/fashion'\u001b[0m\u001b[0;34m,\u001b[0m \u001b[0mone_hot\u001b[0m\u001b[0;34m=\u001b[0m\u001b[0;32mTrue\u001b[0m\u001b[0;34m)\u001b[0m \u001b[0;31m# membaca dataset dari input_data yang berada apada tensorflow.examples.tutorial.mnist\u001b[0m\u001b[0;34m\u001b[0m\u001b[0;34m\u001b[0m\u001b[0m\n",
            "\u001b[0;31mModuleNotFoundError\u001b[0m: No module named 'tensorflow.examples.tutorials'",
            "",
            "\u001b[0;31m---------------------------------------------------------------------------\u001b[0;32m\nNOTE: If your import is failing due to a missing package, you can\nmanually install dependencies using either !pip or !apt.\n\nTo view examples of installing some common dependencies, click the\n\"Open Examples\" button below.\n\u001b[0;31m---------------------------------------------------------------------------\u001b[0m\n"
          ]
        }
      ]
    },
    {
      "cell_type": "code",
      "metadata": {
        "id": "91MSxpZLbPf_",
        "colab_type": "code",
        "colab": {}
      },
      "source": [
        "!mkdir data/fashion # membuat sebuah directory dalam input_data yang bernama \"data/fashion\"\n",
        "!wget -O data/fashion/train-images-idx3-ubyte.gz http://fashion-mnist.s3-website.eu-central-1.amazonaws.com/train-images-idx3-ubyte.gz\n",
        "!wget -O data/fashion/train-labels-idx1-ubyte.gz http://fashion-mnist.s3-website.eu-central-1.amazonaws.com/train-labels-idx1-ubyte.gz\n",
        "!wget -O data/fashion/t10k-images-idx3-ubyte.gz http://fashion-mnist.s3-website.eu-central-1.amazonaws.com/t10k-images-idx3-ubyte.gz\n",
        "!wget -O data/fashion/t10k-labels-idx1-ubyte.gz http://fashion-mnist.s3-website.eu-central-1.amazonaws.com/t10k-labels-idx1-ubyte.gz"
      ],
      "execution_count": 0,
      "outputs": []
    },
    {
      "cell_type": "code",
      "metadata": {
        "id": "QVFdfWsObRbY",
        "colab_type": "code",
        "colab": {}
      },
      "source": [
        "# Import Fashion MNIST\n",
        "mnist = input_data.read_data_sets('data/fashion', one_hot=True) # memanggil sebuah data pada dataset untuk mengextrak data"
      ],
      "execution_count": 0,
      "outputs": []
    },
    {
      "cell_type": "markdown",
      "metadata": {
        "id": "WmJ2lcxed4sY",
        "colab_type": "text"
      },
      "source": [
        "\n",
        "> Membaca dataset fashion mnist\n",
        "\n",
        "\n",
        "\n"
      ]
    },
    {
      "cell_type": "code",
      "metadata": {
        "id": "wLPZRITSsrgw",
        "colab_type": "code",
        "colab": {}
      },
      "source": [
        "print(f'image training: { mnist.train.images.shape}')\n",
        "print(f'label training: { mnist.train.labels.shape}')\n",
        "print(f'image testing: { mnist.test.images.shape}')\n",
        "print(f'label testing: { mnist.test.labels.shape}')\n"
      ],
      "execution_count": 0,
      "outputs": []
    },
    {
      "cell_type": "code",
      "metadata": {
        "id": "mllLBQNcv2au",
        "colab_type": "code",
        "colab": {}
      },
      "source": [
        "print(mnist.train.images[40]) #membaca data images ke 40"
      ],
      "execution_count": 0,
      "outputs": []
    },
    {
      "cell_type": "code",
      "metadata": {
        "id": "OwTP3F2zfCDc",
        "colab_type": "code",
        "colab": {}
      },
      "source": [
        "sample_1 = mnist.train.images[40].reshape(28,28) # untuk memanggil image ke 40 dengan ukuran pixel 28x28\n",
        "plt.imshow(sample_1, cmap='Greys') #menampilkan inputan dari variable sample_i dengan memberikan warna abu-abu"
      ],
      "execution_count": 0,
      "outputs": []
    },
    {
      "cell_type": "code",
      "metadata": {
        "id": "X25TKmjNgY_Y",
        "colab_type": "code",
        "colab": {}
      },
      "source": [
        "datatrainimages=pd.DataFrame(mnist.train.images) # untuk meengubah data dari numpy ke data frame pandas\n",
        "datatestimages=pd.DataFrame(mnist.test.images)\n",
        "combine = [datatrainimages, datatestimages] \n",
        "ffmnist = pd.concat(combine)\n",
        "print(ffmnist)\n",
        "print(ffmnist.isnull().any().sum()) # untuk menghitung jumlah data yang kosong "
      ],
      "execution_count": 0,
      "outputs": []
    },
    {
      "cell_type": "code",
      "metadata": {
        "id": "bCqcY4hKfShl",
        "colab_type": "code",
        "colab": {}
      },
      "source": [
        "fig, axes = plt.subplots(2, 5, figsize=(7,4))\n",
        "for img, label, ax in zip(mnist.train.images[0:10], np.argmax(mnist.train.labels[0:10], 1), axes.flat):\n",
        "  ax.set_title(label)\n",
        "  ax.imshow(img.reshape(28,28))\n",
        "  ax.axis('off')\n",
        "plt.show()"
      ],
      "execution_count": 0,
      "outputs": []
    },
    {
      "cell_type": "markdown",
      "metadata": {
        "id": "VBMRV7Mdfi7f",
        "colab_type": "text"
      },
      "source": [
        "#2. Membangun RNN/LSTM"
      ]
    },
    {
      "cell_type": "markdown",
      "metadata": {
        "id": "iRjvWiS0fnvu",
        "colab_type": "text"
      },
      "source": [
        "##2.1. Hyperparameter"
      ]
    },
    {
      "cell_type": "code",
      "metadata": {
        "id": "1VZ9nIadtJw3",
        "colab_type": "code",
        "colab": {}
      },
      "source": [
        "# 55000\n",
        "#hyperparamters\n",
        "learning_rate = 0.0001\n",
        "# jumlah perpndaha\n",
        "training_iterations = 100000\n",
        "# banyaknya pengulangan\n",
        "batch_size = 128\n",
        "# banyaknya jumlah gambar yang diolah dalam sekali pengolahan\n",
        "display_step = 10\n",
        "# \n",
        "epochs = 1000\n",
        "# \n",
        "\n",
        "n_inputs = 28\n",
        "# jumlah neuran masukan\n",
        "n_time_steps = 28\n",
        "# \n",
        "n_hidden_units = 128\n",
        "# \n",
        "n_classes = 10\n",
        "# "
      ],
      "execution_count": 0,
      "outputs": []
    },
    {
      "cell_type": "markdown",
      "metadata": {
        "id": "7zIDEV0qfqmi",
        "colab_type": "text"
      },
      "source": [
        "##2.2. Placeholders"
      ]
    },
    {
      "cell_type": "code",
      "metadata": {
        "id": "Um0vgGd0tJai",
        "colab_type": "code",
        "colab": {}
      },
      "source": [
        "X = tf.placeholder(tf.float32, [None, n_time_steps, n_inputs])\n",
        "# X = tf.placeholder(tf.float32, [batch_size, n_time_steps, n_inputs])\n",
        "Y = tf.placeholder(tf.float32, [None, n_classes])\n",
        "X"
      ],
      "execution_count": 0,
      "outputs": []
    },
    {
      "cell_type": "markdown",
      "metadata": {
        "id": "vJuMZTSTfuBj",
        "colab_type": "text"
      },
      "source": [
        "##2.3. Variable"
      ]
    },
    {
      "cell_type": "code",
      "metadata": {
        "id": "ExLyUL-2njfn",
        "colab_type": "code",
        "colab": {}
      },
      "source": [
        "output_w = tf.Variable(tf.random_normal([n_hidden_units, n_classes]))\n",
        "output_b = tf.Variable(tf.random_normal([n_classes]))\n",
        "output_w"
      ],
      "execution_count": 0,
      "outputs": []
    },
    {
      "cell_type": "markdown",
      "metadata": {
        "id": "1CIu0T7FgHnQ",
        "colab_type": "text"
      },
      "source": [
        "##2.4. Menyiapkan dan Membangun RNN/LSTM"
      ]
    },
    {
      "cell_type": "code",
      "metadata": {
        "id": "bsowyY-Z3k5-",
        "colab_type": "code",
        "colab": {}
      },
      "source": [
        "lstm_cell = tf.contrib.rnn.BasicLSTMCell(n_hidden_units, forget_bias=1)\n",
        "outputs, final_state = tf.nn.dynamic_rnn(lstm_cell, X, dtype=\"float32\")\n",
        "outputs"
      ],
      "execution_count": 0,
      "outputs": []
    },
    {
      "cell_type": "code",
      "metadata": {
        "id": "o3g_CMGdpJ4j",
        "colab_type": "code",
        "colab": {}
      },
      "source": [
        "outputs[:,-1,:]"
      ],
      "execution_count": 0,
      "outputs": []
    },
    {
      "cell_type": "code",
      "metadata": {
        "colab_type": "code",
        "id": "YtKd9dSO20G3",
        "colab": {}
      },
      "source": [
        "# a = np.array([[[1,2,3], [4,5,6], [7,8,9]], [[10,11,12], [13,14,15], [16,17,18]], [[19,20,21], [22,23,24], [25,26,27]]]) # menyimpan hasil pixel image 28 x 28\n",
        "# a"
      ],
      "execution_count": 0,
      "outputs": []
    },
    {
      "cell_type": "code",
      "metadata": {
        "id": "GX8TiNqfs7Vi",
        "colab_type": "code",
        "colab": {}
      },
      "source": [
        "# a[:,-1,:]"
      ],
      "execution_count": 0,
      "outputs": []
    },
    {
      "cell_type": "markdown",
      "metadata": {
        "id": "9Tzd9hPbgROb",
        "colab_type": "text"
      },
      "source": [
        "##2.5. Memprediksi"
      ]
    },
    {
      "cell_type": "code",
      "metadata": {
        "id": "1ikKVr6m5TsA",
        "colab_type": "code",
        "colab": {}
      },
      "source": [
        "logits = tf.matmul(outputs[:,-1,:], output_w) + output_b #(outputs[:,-1,:]*output_w) + output_b \n",
        "logits"
      ],
      "execution_count": 0,
      "outputs": []
    },
    {
      "cell_type": "markdown",
      "metadata": {
        "id": "UQQ7kt-Rgdf2",
        "colab_type": "text"
      },
      "source": [
        "##2.6. Loss dan Optimasi"
      ]
    },
    {
      "cell_type": "code",
      "metadata": {
        "id": "ArJlpEKC5gUI",
        "colab_type": "code",
        "colab": {}
      },
      "source": [
        "loss = tf.reduce_mean(tf.nn.softmax_cross_entropy_with_logits(labels=Y, logits=logits )) #mencari jumlah rata rata dari cross and tropy dari label = y dan logits\n",
        "\n",
        "optimize = tf.train.AdamOptimizer(learning_rate=learning_rate).minimize(loss) # pengoptimasikan leartning_rate dengan jumlah lose menggunakan AdamOptimizer\n",
        "# optimize = tf.train.GradientDescentOptimizer(learning_rate=learning_rate).minimize(loss) \n",
        "# opsi lainnya"
      ],
      "execution_count": 0,
      "outputs": []
    },
    {
      "cell_type": "markdown",
      "metadata": {
        "id": "MY0Y93zBgiuR",
        "colab_type": "text"
      },
      "source": [
        "##2.7. Metric untuk evaluasi"
      ]
    },
    {
      "cell_type": "code",
      "metadata": {
        "id": "0wOY-bue7O8n",
        "colab_type": "code",
        "colab": {}
      },
      "source": [
        "# pembuatan konfusion matrik yang digunakan untuk mengoptimasikan\n",
        "confusion_op = tf.math.confusion_matrix(tf.argmax(Y, 1), tf.argmax(logits, 1)) \n",
        "correct_prediction = tf.equal(tf.argmax(logits, 1), tf.argmax(Y, 1)) \n",
        "accuracy = tf.reduce_mean(tf.cast(correct_prediction, tf.float32))"
      ],
      "execution_count": 0,
      "outputs": []
    },
    {
      "cell_type": "markdown",
      "metadata": {
        "id": "JNQePOvAgmzM",
        "colab_type": "text"
      },
      "source": [
        "#3. Training"
      ]
    },
    {
      "cell_type": "code",
      "metadata": {
        "id": "g1VcHTpl6ioA",
        "colab_type": "code",
        "colab": {}
      },
      "source": [
        "timestart=time.time()\n",
        "# insialisasi variable\n",
        "init = tf.global_variables_initializer()\n",
        "graph=[]\n",
        "\n",
        "# inisialisasi seasino(untuk menjalankan graph)\n",
        "session = tf.Session()\n",
        "session.run(init)\n",
        "\n",
        "for epoch in range(epochs):\n",
        "  # mengambil gambar gambar dalam batch\n",
        "  batch_x, batch_y = mnist.train.next_batch(batch_size = batch_size)\n",
        "  \n",
        "  # reshape, karena gambarnya masih dalam bentuk vektor\n",
        "  batch_x2 = batch_x.reshape((batch_size, n_time_steps, n_inputs))\n",
        "  \n",
        "  session.run(optimize, feed_dict={X: batch_x2, Y: batch_y})\n",
        "  \n",
        "  if not epoch % 10: # hanya menampilkan stap ke 10\n",
        "    \n",
        "    acc = session.run(accuracy, feed_dict={X: batch_x2, Y: batch_y})\n",
        "    los = session.run(loss, feed_dict={X: batch_x2, Y: batch_y})\n",
        "    graph.append([epoch,acc,los]) # graph menyimpan sebuah data dari epoch,acc dan loss untuk digunakan pada ploting\n",
        "    print(f'epoch: {epoch}, loss: {los:.4f}, accuracy: {acc:.4f}')\n",
        "    # print(graph)\n",
        "    \n",
        "  if epoch==(epochs-1):\n",
        "    \n",
        "    output_val = np.array(session.run(outputs, feed_dict={X: batch_x2}))\n",
        "    finalstate_val = np.array(session.run(final_state, feed_dict={X: batch_x2}))\n",
        "timestop=time.time()"
      ],
      "execution_count": 0,
      "outputs": []
    },
    {
      "cell_type": "code",
      "metadata": {
        "id": "dzujZfjAiT-_",
        "colab_type": "code",
        "colab": {}
      },
      "source": [
        "print(timestop-timestart) # menampilkan waktu proses training"
      ],
      "execution_count": 0,
      "outputs": []
    },
    {
      "cell_type": "markdown",
      "metadata": {
        "id": "U3UbS4kw3VnA",
        "colab_type": "text"
      },
      "source": [
        "#4. Evaluasi"
      ]
    },
    {
      "cell_type": "code",
      "metadata": {
        "id": "Iu9vxXcp42fu",
        "colab_type": "code",
        "colab": {}
      },
      "source": [
        "confusion = session.run(confusion_op, feed_dict={X: mnist.test.images.reshape(10000, n_time_steps, n_inputs), Y: mnist.test.labels})\n",
        "print(confusion)"
      ],
      "execution_count": 0,
      "outputs": []
    },
    {
      "cell_type": "code",
      "metadata": {
        "id": "P6YyvZ0v3ZwH",
        "colab_type": "code",
        "colab": {}
      },
      "source": [
        "from sklearn.metrics import classification_report\n",
        "\n",
        "yhat = session.run(logits, feed_dict={X: mnist.test.images.reshape(10000, n_time_steps, n_inputs)})\n",
        "yhat = np.argmax(yhat, axis=1)\n",
        "\n",
        "y = session.run(Y, feed_dict={Y: mnist.test.labels})\n",
        "y = np.argmax(y, axis=1)\n",
        "\n",
        "print(classification_report(y, yhat))"
      ],
      "execution_count": 0,
      "outputs": []
    },
    {
      "cell_type": "code",
      "metadata": {
        "id": "P32F4P-jJBYd",
        "colab_type": "code",
        "colab": {}
      },
      "source": [
        "# untuk menampilkan data presentasi dari setiap data test\n",
        "i=0 \n",
        "presentasi_data = session.run(logits, feed_dict={X: mnist.test.images.reshape(10000, n_time_steps, n_inputs)})\n",
        "while i < len(y):\n",
        "  print (\"Data test ke\",i)\n",
        "  print (y[i],yhat[i])\n",
        "  print (presentasi_data[i])\n",
        "  i=i+1"
      ],
      "execution_count": 0,
      "outputs": []
    },
    {
      "cell_type": "code",
      "metadata": {
        "id": "H1pAzGOZgkUW",
        "colab_type": "code",
        "colab": {}
      },
      "source": [
        "target_dict = {\n",
        " 0: 'T-shirt/top',\n",
        " 1: 'Trouser',\n",
        " 2: 'Pullover',\n",
        " 3: 'Dress',\n",
        " 4: 'Coat',\n",
        " 5: 'Sandal',\n",
        " 6: 'Shirt',\n",
        " 7: 'Sneaker',\n",
        " 8: 'Bag',\n",
        " 9: 'Ankle boot',\n",
        "}"
      ],
      "execution_count": 0,
      "outputs": []
    },
    {
      "cell_type": "code",
      "metadata": {
        "id": "HNk6TO3W4lhh",
        "colab_type": "code",
        "colab": {}
      },
      "source": [
        "fig, axes = plt.subplots(10, 10, figsize=(12,14))\n",
        "for img, label, ax in zip(mnist.test.images[0:100], yhat, axes.flat):\n",
        "  ax.set_title(target_dict[label])\n",
        "  ax.imshow(img.reshape(28,28))\n",
        "  ax.axis('off')\n",
        "plt.show()"
      ],
      "execution_count": 0,
      "outputs": []
    },
    {
      "cell_type": "code",
      "metadata": {
        "id": "_etEl15ujQpr",
        "colab_type": "code",
        "colab": {}
      },
      "source": [
        "# plot antara epoch dan akurasi\n",
        "sumbux=[item[0] for item in graph]\n",
        "sumbuy=[item[1] for item in graph]\n",
        "# print(sumbuy)\n",
        "plt.plot(sumbux, sumbuy)\n",
        "plt.yscale('linear')\n",
        "plt.title('akurasi')\n",
        "plt.xlabel('epoch')\n",
        "plt.ylabel('akurasi')\n",
        "plt.axis('auto')\n",
        "plt.grid(True)"
      ],
      "execution_count": 0,
      "outputs": []
    },
    {
      "cell_type": "code",
      "metadata": {
        "id": "oi3tyUqNvQtX",
        "colab_type": "code",
        "colab": {}
      },
      "source": [
        "# plot antara epoch dan loss\n",
        "sumbux=[item[0] for item in graph]\n",
        "sumbuy=[item[2] for item in graph]\n",
        "plt.plot(sumbux, sumbuy)\n",
        "# print(sumbuy)\n",
        "plt.yscale('linear')\n",
        "plt.title('loss')\n",
        "plt.xlabel('epoch')\n",
        "plt.ylabel('loss')\n",
        "plt.axis('auto')\n",
        "plt.grid(True)"
      ],
      "execution_count": 0,
      "outputs": []
    }
  ]
}